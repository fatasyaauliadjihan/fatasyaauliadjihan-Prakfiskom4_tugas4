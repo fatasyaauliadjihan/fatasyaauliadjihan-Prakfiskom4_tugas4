{
  "nbformat": 4,
  "nbformat_minor": 0,
  "metadata": {
    "colab": {
      "provenance": []
    },
    "kernelspec": {
      "name": "python3",
      "display_name": "Python 3"
    },
    "language_info": {
      "name": "python"
    }
  },
  "cells": [
    {
      "cell_type": "code",
      "execution_count": 1,
      "metadata": {
        "colab": {
          "base_uri": "https://localhost:8080/"
        },
        "id": "4SR4W7CP9N42",
        "outputId": "cad8cc38-ed70-4043-900f-968130e15a5e"
      },
      "outputs": [
        {
          "output_type": "stream",
          "name": "stdout",
          "text": [
            "determinant matriks A:\n",
            " -2.0000000000000004\n",
            "invers matriks B:\n",
            " [[ 0.0872093   0.04263566]\n",
            " [-0.00581395  0.01937984]]\n",
            "condition number:\n",
            " 1.0000000002\n",
            "Rank:\n",
            " 2\n",
            "Augmented matrix:\n",
            " [[1 2 5]\n",
            " [3 4 6]]\n",
            "Matriks:\n",
            "[[1 2 3]\n",
            " [4 5 6]\n",
            " [7 8 9]]\n",
            "Peringkat Matriks: 2\n",
            "Dimensi Ruang Nol: 1\n"
          ]
        }
      ],
      "source": [
        "import numpy as np\n",
        "\n",
        "#soal no 1\n",
        "A = np.array([[1, 2], [3, 4]])\n",
        "#menghitung determinan matriks\n",
        "determinant = np.linalg.det(A)\n",
        "\n",
        "print('determinant matriks A:\\n' , determinant)\n",
        "\n",
        "#soal no 2\n",
        "B = np.array([[10, -22], [3, 45]])\n",
        "#menghitung invers matriks\n",
        "inverse_of_B = np.linalg.inv(B)\n",
        "\n",
        "print('invers matriks B:\\n', inverse_of_B)\n",
        "\n",
        "#soal no 3\n",
        "C = np.array([[1, 10**-10], [10**-10, 1]])\n",
        "#apakah matriks berkondisi buruk\n",
        "from numpy.linalg import\\\n",
        "     cond\n",
        "C = np.array([[1, 10**-10], [10**-10, 1]])\n",
        "\n",
        "print('condition number:\\n', cond(C))\n",
        "\n",
        "#Soal No.4\n",
        "from numpy.linalg import \\\n",
        "              matrix_rank\n",
        "A = np.array([[1,2],\n",
        "              [3,4]])\n",
        "print('Rank:\\n', matrix_rank(A))\n",
        "b = np.array([[5], [6]])\n",
        "A_b = np.concatenate((A, b), axis = 1)\n",
        "print('Augmented matrix:\\n', A_b)\n",
        "\n",
        "#Soal No.5\n",
        "# Tentukan matriks Anda (contoh matriks 3x3)\n",
        "A = np.array([[1, 2, 3],\n",
        "                  [4, 5, 6],\n",
        "                  [7, 8, 9]])\n",
        "\n",
        "# Hitung peringkat matriks\n",
        "rank = np.linalg.matrix_rank(A)\n",
        "\n",
        "# Hitung dimensi ruang nol\n",
        "num_columns = A.shape[1]\n",
        "nullity = num_columns - rank\n",
        "\n",
        "# Cetak hasil\n",
        "print(\"Matriks:\")\n",
        "print(A)\n",
        "print(\"Peringkat Matriks:\", rank)\n",
        "print(\"Dimensi Ruang Nol:\", nullity)\n"
      ]
    }
  ]
}